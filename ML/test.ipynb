{
 "cells": [
  {
   "cell_type": "code",
   "execution_count": 2,
   "metadata": {},
   "outputs": [],
   "source": [
    "###################\n",
    "## AUTHORIZATION ##\n",
    "###################\n",
    "import tekore as tk #Spotify Web API\n",
    "def authorize():\n",
    "    CLIENT_ID = \"31b908bc909041a5a2898268aaf89962\"\n",
    "    CLIENT_SECRET = \"41a1563f82c44bffaac02437b11e8fc3\"\n",
    "    app_token = tk.request_client_token(CLIENT_ID, CLIENT_SECRET)\n",
    "    return tk.Spotify(app_token)"
   ]
  },
  {
   "cell_type": "code",
   "execution_count": 3,
   "metadata": {},
   "outputs": [
    {
     "name": "stderr",
     "output_type": "stream",
     "text": [
      "100%|██████████| 126/126 [13:13<00:00,  6.30s/it]\n"
     ]
    }
   ],
   "source": [
    "#################\n",
    "## PREPARATION ##\n",
    "#################\n",
    "\n",
    "import authorization\n",
    "import pandas as pd\n",
    "from tqdm import tqdm\n",
    "import time\n",
    "\n",
    "# Authorize and call access object \"sp\"\n",
    "sp = authorization.authorize()\n",
    "\n",
    "# Get all genres\n",
    "genres = sp.recommendation_genre_seeds()\n",
    "\n",
    "# Set number of recommendations per genre\n",
    "n_recs = 10\n",
    "\n",
    "# Initiate a dictionary with all the information you want to crawl\n",
    "data_dict = {\"id\":[], \"genre\":[], \"track_name\":[], \"artist_name\":[],\n",
    "             \"valence\":[], \"energy\":[]}\n",
    "\n",
    "################\n",
    "## CRAWL DATA ##\n",
    "################\n",
    "\n",
    "# Get recs for every genre\n",
    "for g in tqdm(genres):\n",
    "    \n",
    "    # Get n recommendations\n",
    "    recs = sp.recommendations(genres = [g], limit = n_recs)\n",
    "    # json-like string to dict\n",
    "    recs = eval(recs.json().replace(\"null\", \"-999\").replace(\"false\", \"False\").replace(\"true\", \"True\"))[\"tracks\"]\n",
    "    \n",
    "    # Crawl data from each track\n",
    "    for track in recs:\n",
    "        # ID and Genre\n",
    "        data_dict[\"id\"].append(track[\"id\"])\n",
    "        data_dict[\"genre\"].append(g)\n",
    "        # Metadata\n",
    "        track_meta = sp.track(track[\"id\"])\n",
    "        data_dict[\"track_name\"].append(track_meta.name)\n",
    "        data_dict[\"artist_name\"].append(track_meta.album.artists[0].name)\n",
    "        # Valence and energy\n",
    "        track_features = sp.track_audio_features(track[\"id\"])\n",
    "        data_dict[\"valence\"].append(track_features.valence)\n",
    "        data_dict[\"energy\"].append(track_features.energy)\n",
    "        \n",
    "        # Wait 0.2 seconds per track so that the api doesnt overheat\n",
    "        time.sleep(0.2)\n",
    "        \n",
    "##################\n",
    "## PROCESS DATA ##\n",
    "##################\n",
    "\n",
    "# Store data in dataframe\n",
    "df = pd.DataFrame(data_dict)\n",
    "\n",
    "# Drop duplicates\n",
    "df.drop_duplicates(subset = \"id\", keep = \"first\", inplace = True)\n",
    "df.to_csv(\"valence_arousal_dataset.csv\", index = False)"
   ]
  },
  {
   "cell_type": "code",
   "execution_count": 4,
   "metadata": {},
   "outputs": [],
   "source": [
    "import numpy as np\n",
    "from numpy.linalg import norm\n",
    "import random\n",
    "import pandas as pd\n",
    "########################\n",
    "## recommend function ##\n",
    "########################\n",
    "df=pd.read_csv(\"valence_arousal_dataset.csv\")\n",
    "\n",
    "df[\"mood_vec\"] = df[[\"valence\", \"energy\"]].values.tolist()\n",
    "def recommend(valence,energy, ref_df):\n",
    "    \n",
    "    featurevector = np.array([valence, energy])\n",
    "    \n",
    "    # Compute distances to all reference tracks\n",
    "    ref_df[\"distances\"] = ref_df[\"mood_vec\"].apply(lambda x: norm(featurevector-np.array(x)))\n",
    "    # Sort distances from lowest to highest\n",
    "    ref_df_sorted = ref_df.sort_values(by = \"distances\", ascending = True)\n",
    "    \n",
    "    # Return n recommendations\n",
    "    return ref_df_sorted.iloc[0]"
   ]
  },
  {
   "cell_type": "code",
   "execution_count": 5,
   "metadata": {},
   "outputs": [],
   "source": [
    "def get_n_recs(point1,point2,n_recs):\n",
    "    x=recommend(point1[0],point1[1],df)\n",
    "    print(x)\n",
    "    tracks=[{\"name\":x[\"track_name\"],\"id\":x[\"id\"]}]\n",
    "    n=n_recs-1\n",
    "    x_change=(point2[0]-point1[0])/n\n",
    "    y_change=(point2[1]-point1[1])/n\n",
    "    x_val=point1[0]\n",
    "    y_val=point1[1]\n",
    "    for i in range(n):\n",
    "        x_val+=x_change\n",
    "        y_val+=y_change\n",
    "        x=recommend(x_val,y_val,df)\n",
    "        print(x)\n",
    "        tracks.append({\"name\":x[\"track_name\"],\"id\":x[\"id\"]})\n",
    "    return tracks"
   ]
  },
  {
   "cell_type": "code",
   "execution_count": 6,
   "metadata": {},
   "outputs": [
    {
     "name": "stdout",
     "output_type": "stream",
     "text": [
      "id                                        0Vjz7AGR5eDAa1CoSUBIZL\n",
      "genre                                                  classical\n",
      "track_name     Clarinet Concertino: Concertino for Clarinet a...\n",
      "artist_name                                        Nicola LeFanu\n",
      "valence                                                    0.039\n",
      "energy                                                   0.00702\n",
      "mood_vec                                        [0.039, 0.00702]\n",
      "distances                                               0.039627\n",
      "Name: 174, dtype: object\n",
      "id             1SxNHQSrK1U9d4gZ866LBX\n",
      "genre                             mpb\n",
      "track_name                    Segunda\n",
      "artist_name                 Gal Costa\n",
      "valence                         0.249\n",
      "energy                          0.234\n",
      "mood_vec               [0.249, 0.234]\n",
      "distances                    0.016031\n",
      "Name: 780, dtype: object\n",
      "id             4Odr8ViOk7wZrPlJyIL15X\n",
      "genre                      show-tunes\n",
      "track_name                 Suppertime\n",
      "artist_name     Soundtrack/Cast Album\n",
      "valence                         0.505\n",
      "energy                          0.505\n",
      "mood_vec               [0.505, 0.505]\n",
      "distances                    0.007071\n",
      "Name: 1057, dtype: object\n",
      "id             6Zqj7C6uaIXFF5B8XxzWTO\n",
      "genre                      industrial\n",
      "track_name     Every Day Is Halloween\n",
      "artist_name                  Ministry\n",
      "valence                          0.74\n",
      "energy                          0.759\n",
      "mood_vec                [0.74, 0.759]\n",
      "distances                    0.013454\n",
      "Name: 599, dtype: object\n",
      "id             4RyjKCD7vFGxhaHHotWMfH\n",
      "genre                      honky-tonk\n",
      "track_name             Peppelinos bar\n",
      "artist_name             Lasse Stefanz\n",
      "valence                         0.967\n",
      "energy                          0.987\n",
      "mood_vec               [0.967, 0.987]\n",
      "distances                    0.035468\n",
      "Name: 543, dtype: object\n",
      "[{'name': 'Clarinet Concertino: Concertino for Clarinet and String Orchestra', 'id': '0Vjz7AGR5eDAa1CoSUBIZL'}, {'name': 'Segunda', 'id': '1SxNHQSrK1U9d4gZ866LBX'}, {'name': 'Suppertime', 'id': '4Odr8ViOk7wZrPlJyIL15X'}, {'name': 'Every Day Is Halloween', 'id': '6Zqj7C6uaIXFF5B8XxzWTO'}, {'name': 'Peppelinos bar', 'id': '4RyjKCD7vFGxhaHHotWMfH'}]\n"
     ]
    }
   ],
   "source": [
    "print(get_n_recs(point1=[0.0,0.0],point2=[1.0,1.0],n_recs=5))\n"
   ]
  },
  {
   "cell_type": "code",
   "execution_count": 10,
   "metadata": {},
   "outputs": [
    {
     "ename": "",
     "evalue": "",
     "output_type": "error",
     "traceback": [
      "\u001b[1;31mThe Kernel crashed while executing code in the the current cell or a previous cell. Please review the code in the cell(s) to identify a possible cause of the failure. Click <a href='https://aka.ms/vscodeJupyterKernelCrash'>here</a> for more info. View Jupyter <a href='command:jupyter.viewOutput'>log</a> for further details."
     ]
    }
   ],
   "source": []
  },
  {
   "cell_type": "code",
   "execution_count": null,
   "metadata": {},
   "outputs": [],
   "source": [
    " "
   ]
  }
 ],
 "metadata": {
  "kernelspec": {
   "display_name": "Python 3.10.4 ('myvenv': venv)",
   "language": "python",
   "name": "python3"
  },
  "language_info": {
   "codemirror_mode": {
    "name": "ipython",
    "version": 3
   },
   "file_extension": ".py",
   "mimetype": "text/x-python",
   "name": "python",
   "nbconvert_exporter": "python",
   "pygments_lexer": "ipython3",
   "version": "3.10.4"
  },
  "orig_nbformat": 4,
  "vscode": {
   "interpreter": {
    "hash": "b56d64d64366c6861f51522bd1a9b1ced62193f6afb28d9b2577d797172de0f7"
   }
  }
 },
 "nbformat": 4,
 "nbformat_minor": 2
}
